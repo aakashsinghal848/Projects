{
 "cells": [
  {
   "cell_type": "code",
   "execution_count": 545,
   "metadata": {},
   "outputs": [
    {
     "data": {
      "text/plain": [
       "'/Users/aakashsingla'"
      ]
     },
     "execution_count": 545,
     "metadata": {},
     "output_type": "execute_result"
    }
   ],
   "source": [
    "#Check the current working directory\n",
    "import os\n",
    "os.getcwd()\n"
   ]
  },
  {
   "cell_type": "code",
   "execution_count": 546,
   "metadata": {},
   "outputs": [],
   "source": [
    "import sqlite3"
   ]
  },
  {
   "cell_type": "code",
   "execution_count": 547,
   "metadata": {},
   "outputs": [],
   "source": [
    "conn= sqlite3.connect('/Users/aakashsingla/BMM2002.db')"
   ]
  },
  {
   "cell_type": "code",
   "execution_count": 548,
   "metadata": {},
   "outputs": [
    {
     "data": {
      "text/plain": [
       "<sqlite3.Cursor at 0x7fa8f0d5f030>"
      ]
     },
     "execution_count": 548,
     "metadata": {},
     "output_type": "execute_result"
    }
   ],
   "source": [
    "conn.execute(\"PRAGMA foreign_keys= 1\")"
   ]
  },
  {
   "cell_type": "code",
   "execution_count": 549,
   "metadata": {},
   "outputs": [],
   "source": [
    "#Set the cursor \n",
    "cur=conn.cursor()"
   ]
  },
  {
   "cell_type": "code",
   "execution_count": 550,
   "metadata": {},
   "outputs": [
    {
     "data": {
      "text/plain": [
       "<sqlite3.Cursor at 0x7fa8f0d5f3b0>"
      ]
     },
     "execution_count": 550,
     "metadata": {},
     "output_type": "execute_result"
    }
   ],
   "source": [
    "cur"
   ]
  },
  {
   "cell_type": "markdown",
   "metadata": {},
   "source": [
    "# Add tables in above created database"
   ]
  },
  {
   "cell_type": "code",
   "execution_count": 551,
   "metadata": {},
   "outputs": [
    {
     "name": "stdout",
     "output_type": "stream",
     "text": [
      "Tables are created \n"
     ]
    }
   ],
   "source": [
    "query= '''\n",
    "\n",
    "CREATE TABLE IF NOT EXISTS Student (S_ID INTEGER PRIMARY KEY AUTOINCREMENT, F_Name TEXT (1, 20) NOT NULL, \n",
    "                      L_NAME TEXT (1, 20), S_Email TEXT (1, 50) NOT NULL, S_Phone INTEGER (10) NOT NULL,\n",
    "                      S_Add TEXT (1, 50) NOT NULL);\n",
    "\n",
    "CREATE TABLE IF NOT EXISTS Hostel (H_ID INTEGER PRIMARY KEY, H_Name TEXT (1, 10) NOT NULL, \n",
    "                     H_Phone INTEGER (10) NOT NULL, H_Email TEXT (1, 50) NOT NULL);\n",
    "\n",
    "\n",
    "CREATE TABLE IF NOT EXISTS Room (R_ID INTEGER PRIMARY KEY AUTOINCREMENT, R_Price DECIMAL (4) NOT NULL, \n",
    "                   R_Type TEXT (10) NOT NULL, R_Status TEXT (10), \n",
    "                   H_ID INTEGER REFERENCES Hostel (H_ID) ON DELETE NO ACTION ON UPDATE CASCADE);\n",
    "\n",
    "\n",
    "CREATE TABLE IF NOT EXISTS Booking (B_ID INTEGER PRIMARY KEY AUTOINCREMENT, \n",
    "                      S_ID INTEGER REFERENCES Student (S_ID) ON DELETE NO ACTION ON UPDATE CASCADE,\n",
    "                      R_ID INTEGER REFERENCES Room (R_ID) ON DELETE NO ACTION ON UPDATE CASCADE, \n",
    "                      Check_In DATE NOT NULL,\n",
    "                      Check_Out DATE);\n",
    "\n",
    "CREATE TABLE IF NOT EXISTS Payment (Pay_ID INTEGER PRIMARY KEY AUTOINCREMENT,\n",
    "                      B_ID INTEGER REFERENCES Booking (B_ID) ON DELETE NO ACTION ON UPDATE CASCADE, Pay_Date DATE, \n",
    "                      Pay_Desc TEXT (2, 50), Pay_Amount INTEGER (2, 4));\n",
    "\n",
    "CREATE TABLE IF NOT EXISTS Warden (W_ID INTEGER PRIMARY KEY, W_Name TEXT (1, 50) NOT NULL, W_Email TEXT (1, 50) NOT NULL,\n",
    "                     W_Phone INTEGER (1, 50) NOT NULL, W_Add TEXT (1, 50) NOT NULL,\n",
    "                     H_ID INTEGER REFERENCES Hostel (H_ID) ON DELETE NO ACTION ON UPDATE CASCADE);\n",
    "\n",
    "\n",
    "\n",
    "'''\n",
    "try:\n",
    "    cur.executescript(query)   ## to execute the multiple queries otherswise \n",
    "                              ## we will use cursor.execute.\n",
    "    print('Tables are created ')\n",
    "\n",
    "    \n",
    "    \n",
    "except:\n",
    "    print (\"Error in creating in tables\")\n",
    "    "
   ]
  },
  {
   "cell_type": "markdown",
   "metadata": {},
   "source": [
    "Once we have created the structure of our db by using DDL.\n",
    "Now, we will use Insert query to fill thw records."
   ]
  },
  {
   "cell_type": "code",
   "execution_count": 552,
   "metadata": {},
   "outputs": [],
   "source": [
    "query= \"INSERT INTO Student (S_ID, F_Name, L_NAME, S_Email, S_Phone, S_Add ) VALUES (?,?,?,?,?,?);\"\n",
    "\n",
    "students= [(700000021,'Steveson','Ramis','steve1@hmail.com','01632 960043' ,\"'23, TQR 33Y'\"),\n",
    "          (700000043,'Mann','Sonia','manns@ymail.com','01632 960398',\"'84, ST2 5RB'\"),\n",
    "          (700000045,'Thomas','England','thomase33@hmail.com','01632 960427',\"'54, Khajoor gali, TQL 43G'\"),\n",
    "          (700000055,'Dafydd','Hollen','daf1@ymail.com','01632 960442',\"'31, Northeren Hay,  EX4 65T'\"),\n",
    "          (700000061,'Ninja','Chau','n1121@hmail.com','01632  960873',\"'654, Mansion LD2 2HY'\"),\n",
    "          (700000066,'Emile','Naina','emile2@ymail.com','01632 960608',\"'457, Anaj Mandi,  SH3 7HD'\"),\n",
    "          (700000067,'Robert','Nakamuki','robert@hmail.com','01632 960608',\"'188, BR1 1YS'\"),\n",
    "          (700000069,'Zola','Sharma','Zol243@hmail.com','01632 960700',\"'Flat 201,  Building-A LN2 3TY'\"),\n",
    "          (700000070,'ApGwilym','Biggins','apb98@hmail.com','01632 960823',\"'786, NC5 71E'\"),\n",
    "          (700000089,'Dickens','Lazos','dic213@hmail.com','01632 960000',\"'320,TC1 3YU'\"),\n",
    "          (700000098,'Charles','Pille','charles121@hmail.com','01632 960250',\"'120, EX4 3RY'\"),\n",
    "          (700000639,'Diljit','Grewal','diljit88@hmail.com','01632 960211',\"'34, KH1 DG4'\")\n",
    "    \n",
    "         \n",
    "]\n",
    "\n",
    "cur.executemany(query,students)\n",
    "conn.commit()   \n"
   ]
  },
  {
   "cell_type": "markdown",
   "metadata": {},
   "source": [
    "# Read the entered data"
   ]
  },
  {
   "cell_type": "code",
   "execution_count": 553,
   "metadata": {},
   "outputs": [],
   "source": [
    "query = \"select * from student;\" "
   ]
  },
  {
   "cell_type": "code",
   "execution_count": 554,
   "metadata": {},
   "outputs": [
    {
     "data": {
      "text/plain": [
       "<sqlite3.Cursor at 0x7fa8f0d5f3b0>"
      ]
     },
     "execution_count": 554,
     "metadata": {},
     "output_type": "execute_result"
    }
   ],
   "source": [
    "cur.execute(query)"
   ]
  },
  {
   "cell_type": "code",
   "execution_count": 555,
   "metadata": {},
   "outputs": [],
   "source": [
    "x=cur.fetchall()"
   ]
  },
  {
   "cell_type": "code",
   "execution_count": 556,
   "metadata": {},
   "outputs": [
    {
     "name": "stdout",
     "output_type": "stream",
     "text": [
      "(700000021, 'Steveson', 'Ramis', 'steve1@hmail.com', '01632 960043', \"'23, TQR 33Y'\")\n",
      "(700000043, 'Mann', 'Sonia', 'manns@ymail.com', '01632 960398', \"'84, ST2 5RB'\")\n",
      "(700000045, 'Thomas', 'England', 'thomase33@hmail.com', '01632 960427', \"'54, Khajoor gali, TQL 43G'\")\n",
      "(700000055, 'Dafydd', 'Hollen', 'daf1@ymail.com', '01632 960442', \"'31, Northeren Hay,  EX4 65T'\")\n",
      "(700000061, 'Ninja', 'Chau', 'n1121@hmail.com', '01632  960873', \"'654, Mansion LD2 2HY'\")\n",
      "(700000066, 'Emile', 'Naina', 'emile2@ymail.com', '01632 960608', \"'457, Anaj Mandi,  SH3 7HD'\")\n",
      "(700000067, 'Robert', 'Nakamuki', 'robert@hmail.com', '01632 960608', \"'188, BR1 1YS'\")\n",
      "(700000069, 'Zola', 'Sharma', 'Zol243@hmail.com', '01632 960700', \"'Flat 201,  Building-A LN2 3TY'\")\n",
      "(700000070, 'ApGwilym', 'Biggins', 'apb98@hmail.com', '01632 960823', \"'786, NC5 71E'\")\n",
      "(700000089, 'Dickens', 'Lazos', 'dic213@hmail.com', '01632 960000', \"'320,TC1 3YU'\")\n",
      "(700000098, 'Charles', 'Pille', 'charles121@hmail.com', '01632 960250', \"'120, EX4 3RY'\")\n",
      "(700000639, 'Diljit', 'Grewal', 'diljit88@hmail.com', '01632 960211', \"'34, KH1 DG4'\")\n"
     ]
    }
   ],
   "source": [
    "for x in x:\n",
    "    print(x)"
   ]
  },
  {
   "cell_type": "code",
   "execution_count": 557,
   "metadata": {},
   "outputs": [],
   "source": [
    "# Insert for Hostel table\n",
    "query= \"INSERT INTO Hostel(H_ID,H_Name,H_Phone,H_Email) VALUES(141,'Matri Chaya','1755 245410','matrichaya@gmail.com');\"\n",
    "cur.execute(query)\n",
    "conn.commit()\n"
   ]
  },
  {
   "cell_type": "code",
   "execution_count": 558,
   "metadata": {},
   "outputs": [
    {
     "name": "stdout",
     "output_type": "stream",
     "text": [
      "(141, 'Matri Chaya', '1755 245410', 'matrichaya@gmail.com')\n"
     ]
    }
   ],
   "source": [
    "#Fetch the data for  hostel Table\n",
    "query= \"Select * from Hostel\"\n",
    "cur.execute(query)\n",
    "values=cur.fetchall()\n",
    "for y in values:\n",
    "    print(y)"
   ]
  },
  {
   "cell_type": "code",
   "execution_count": 559,
   "metadata": {},
   "outputs": [],
   "source": [
    "#Insert records for  Room Table\n",
    "\n",
    "query= \"INSERT INTO Room(R_ID, R_Price, R_Type, R_Status,H_ID) VALUES(?,?,?,?,?);\"\n",
    "Room = [(201,5399,'Non-Ensuite','Vaccant',141),\n",
    "        (202,5399,'Non-Ensuite','Vaccant',141),\n",
    "       (203,5399,'Non-Ensuite','Vaccant',141),\n",
    "       (204,5399,'Non-Ensuite','Vaccant',141),\n",
    "       (205,5399,'Non-Ensuite','Vaccant',141),\n",
    "       (206,5399,'Non-Ensuite','Booked',141),\n",
    "       (301,5999,'Ensuite','Vaccant',141),\n",
    "       (207,5399,'Non-Ensuite','Vaccant',141),\n",
    "       (302,5999,'Ensuite','Vaccant',141),\n",
    "       (303,5999,'Ensuite','Booked',141),\n",
    "       (304,5999,'Ensuite','Vaccant',141),\n",
    "       (305,5999,'Ensuite','Vaccant',141),\n",
    "       (2033,0,'Extra','Vaccant',141),\n",
    "       (3033,0,'Extra','Vaccant',141),\n",
    "       (208,5399,'Non-Ensuite','Booked',141),\n",
    "       (209,5399,'Non-Ensuite','Vaccant',141),\n",
    "       (210,5399,'Non-Ensuite','Vaccant',141),\n",
    "       (211,5399,'Non-Ensuite','Booked',141),\n",
    "       (306,5999,'Ensuite','Vaccant',141),\n",
    "       (307,5999,'Ensuite','Vaccant',141),\n",
    "       (308,5999,'Ensuite','Booked',141),\n",
    "       (309,5999,'Ensuite','Vaccant',141),\n",
    "       (310,5999,'Ensuite','Vaccant',141)]\n",
    "     \n",
    "\n",
    "cur.executemany(query,Room)\n",
    "conn.commit()\n",
    "\n"
   ]
  },
  {
   "cell_type": "code",
   "execution_count": null,
   "metadata": {},
   "outputs": [],
   "source": []
  },
  {
   "cell_type": "code",
   "execution_count": 560,
   "metadata": {},
   "outputs": [
    {
     "name": "stdout",
     "output_type": "stream",
     "text": [
      "(201, 5399, 'Non-Ensuite', 'Vaccant', 141)\n",
      "(202, 5399, 'Non-Ensuite', 'Vaccant', 141)\n",
      "(203, 5399, 'Non-Ensuite', 'Vaccant', 141)\n",
      "(204, 5399, 'Non-Ensuite', 'Vaccant', 141)\n",
      "(205, 5399, 'Non-Ensuite', 'Vaccant', 141)\n",
      "(206, 5399, 'Non-Ensuite', 'Booked', 141)\n",
      "(207, 5399, 'Non-Ensuite', 'Vaccant', 141)\n",
      "(208, 5399, 'Non-Ensuite', 'Booked', 141)\n",
      "(209, 5399, 'Non-Ensuite', 'Vaccant', 141)\n",
      "(210, 5399, 'Non-Ensuite', 'Vaccant', 141)\n",
      "(211, 5399, 'Non-Ensuite', 'Booked', 141)\n",
      "(301, 5999, 'Ensuite', 'Vaccant', 141)\n",
      "(302, 5999, 'Ensuite', 'Vaccant', 141)\n",
      "(303, 5999, 'Ensuite', 'Booked', 141)\n",
      "(304, 5999, 'Ensuite', 'Vaccant', 141)\n",
      "(305, 5999, 'Ensuite', 'Vaccant', 141)\n",
      "(306, 5999, 'Ensuite', 'Vaccant', 141)\n",
      "(307, 5999, 'Ensuite', 'Vaccant', 141)\n",
      "(308, 5999, 'Ensuite', 'Booked', 141)\n",
      "(309, 5999, 'Ensuite', 'Vaccant', 141)\n",
      "(310, 5999, 'Ensuite', 'Vaccant', 141)\n",
      "(2033, 0, 'Extra', 'Vaccant', 141)\n",
      "(3033, 0, 'Extra', 'Vaccant', 141)\n"
     ]
    }
   ],
   "source": [
    "#Fetch the data for  Room Table\n",
    "query= \"Select * from Room\"\n",
    "cur.execute(query)\n",
    "values=cur.fetchall()\n",
    "for y in values:\n",
    "    print(y)"
   ]
  },
  {
   "cell_type": "code",
   "execution_count": 561,
   "metadata": {},
   "outputs": [],
   "source": [
    "query= \"INSERT INTO Booking(B_ID, S_ID, R_ID, Check_In,Check_Out) VALUES(?,?,?,?,?);\"\n",
    "booking=[(99999901,700000061,301,'20/05/2021','19/04/2022'),\n",
    "         (99999902,700000021,203,'28/05/2021','19/04/2022'),\n",
    "         (99999903,700000043,302,'31/05/2021','19/04/2022'),\n",
    "         (99999904,700000045,206,'16/04/2021','19/04/2022'),\n",
    "         (99999905,700000055,303,'20/05/2021','19/04/2022'),\n",
    "        \n",
    "    \n",
    "]\n",
    "cur.executemany(query,booking)\n",
    "conn.commit()\n"
   ]
  },
  {
   "cell_type": "code",
   "execution_count": 562,
   "metadata": {},
   "outputs": [
    {
     "name": "stdout",
     "output_type": "stream",
     "text": [
      "(99999901, 700000061, 301, '20/05/2021', '19/04/2022')\n",
      "(99999902, 700000021, 203, '28/05/2021', '19/04/2022')\n",
      "(99999903, 700000043, 302, '31/05/2021', '19/04/2022')\n",
      "(99999904, 700000045, 206, '16/04/2021', '19/04/2022')\n",
      "(99999905, 700000055, 303, '20/05/2021', '19/04/2022')\n"
     ]
    }
   ],
   "source": [
    "#Fetch the data for  Booking Table\n",
    "\n",
    "query=\"Select * from Booking\"\n",
    "cur.execute(query)\n",
    "value= cur.fetchall()\n",
    "for x in value:\n",
    "    print(x)"
   ]
  },
  {
   "cell_type": "code",
   "execution_count": 563,
   "metadata": {},
   "outputs": [
    {
     "name": "stdout",
     "output_type": "stream",
     "text": [
      "Enter the Booking id:\n",
      "Records of: []\n"
     ]
    }
   ],
   "source": [
    "#we can also take command from user\n",
    "\n",
    "read= input(\"Enter the Booking id:\")\n",
    "query= \"select * from Booking where B_ID= ?;\"\n",
    "\n",
    "cur.execute(query, (read,))\n",
    "result= cur.fetchall()\n",
    "\n",
    "print(\"Records of:\", result)\n",
    "\n",
    "\n"
   ]
  },
  {
   "cell_type": "code",
   "execution_count": 564,
   "metadata": {},
   "outputs": [],
   "source": [
    "#Insert values into payment table\n",
    "\n",
    "query= \"INSERT INTO Payment (Pay_ID, B_ID,Pay_Date,Pay_Desc, Pay_Amount) VALUES(?,?,?,?,?);\"\n",
    "payment= [(1121,99999901,'03/2021','Success',2000),\n",
    "          (1122,99999902,'03/2021','Success',2000),\n",
    "          (1123,99999903,'04/2021','Success',1800),\n",
    "          (1124,99999904,'04/2021','Success',2500),\n",
    "          (1125,99999905,'03/2021','Failed',0),\n",
    "          (1126,99999901,'04/2021','Failed',0),\n",
    "          (1127,99999902,'03/2021','Success',2850),\n",
    "          (1128,99999903,'04/2021','Success',2000),\n",
    "          (1129,99999904,'03/2021','Failed',0),\n",
    "          (1130,99999904,'04/2021','Success',2250),\n",
    "          (1132,99999902,'04/2021','Success',2000),\n",
    "          (1133,99999901,'04/2021','Failed',0)\n",
    "    \n",
    "    \n",
    "]\n",
    "cur.executemany(query,payment)\n",
    "conn.commit()"
   ]
  },
  {
   "cell_type": "code",
   "execution_count": 565,
   "metadata": {},
   "outputs": [
    {
     "name": "stdout",
     "output_type": "stream",
     "text": [
      "(1121, 99999901, '03/2021', 'Success', 2000)\n",
      "(1122, 99999902, '03/2021', 'Success', 2000)\n",
      "(1123, 99999903, '04/2021', 'Success', 1800)\n",
      "(1124, 99999904, '04/2021', 'Success', 2500)\n",
      "(1125, 99999905, '03/2021', 'Failed', 0)\n",
      "(1126, 99999901, '04/2021', 'Failed', 0)\n",
      "(1127, 99999902, '03/2021', 'Success', 2850)\n",
      "(1128, 99999903, '04/2021', 'Success', 2000)\n",
      "(1129, 99999904, '03/2021', 'Failed', 0)\n",
      "(1130, 99999904, '04/2021', 'Success', 2250)\n",
      "(1132, 99999902, '04/2021', 'Success', 2000)\n",
      "(1133, 99999901, '04/2021', 'Failed', 0)\n"
     ]
    }
   ],
   "source": [
    "### Fetch the data for  Payment Table\n",
    "\n",
    "query=\"Select * from Payment\"\n",
    "cur.execute(query)\n",
    "value= cur.fetchall()\n",
    "for x in value:\n",
    "    print(x)"
   ]
  },
  {
   "cell_type": "code",
   "execution_count": 566,
   "metadata": {},
   "outputs": [],
   "source": [
    "#Insert values into warden table\n",
    "\n",
    "query= \"INSERT INTO Warden(W_ID, W_Name, W_Email, W_Phone, W_Add, H_ID) VALUES(?,?,?,?,?,?);\"\n",
    "warden= [(301,'Tim Morris','tim11@onestudent.com',132667766,\"'12, Cambrige CM1,  4RT'\",141),\n",
    "         (302,'Andy Thomas','Andy@onestudent.com',132244678,\"'44,  Torquay TQ1 RS9'\",141)\n",
    "\n",
    "]\n",
    "cur.executemany(query,warden)\n",
    "conn.commit()"
   ]
  },
  {
   "cell_type": "code",
   "execution_count": 567,
   "metadata": {},
   "outputs": [
    {
     "name": "stdout",
     "output_type": "stream",
     "text": [
      "(301, 'Tim Morris', 'tim11@onestudent.com', 132667766, \"'12, Cambrige CM1,  4RT'\", 141)\n",
      "(302, 'Andy Thomas', 'Andy@onestudent.com', 132244678, \"'44,  Torquay TQ1 RS9'\", 141)\n"
     ]
    }
   ],
   "source": [
    "#Fetch the data for  Warden Table\n",
    "query=\"Select * from Warden\"\n",
    "cur.execute(query)\n",
    "value= cur.fetchall()\n",
    "for x in value:\n",
    "    print(x)"
   ]
  },
  {
   "cell_type": "markdown",
   "metadata": {},
   "source": [
    "# For the next year, the prices are going to be increased by 10%. Here we will perform CRUD functions."
   ]
  },
  {
   "cell_type": "code",
   "execution_count": 568,
   "metadata": {},
   "outputs": [
    {
     "name": "stdout",
     "output_type": "stream",
     "text": [
      "Prices updated!\n"
     ]
    }
   ],
   "source": [
    "query=''' \n",
    "\n",
    "update Room set R_Price= R_Price + (R_Price*.1);\n",
    "\n",
    "'''\n",
    "\n",
    "try:\n",
    "    cur.execute(query)\n",
    "    print ('Prices updated!')\n",
    "    conn.commit()\n",
    "except:\n",
    "    conn.rollback()\n",
    "    print (\"Rollback the prices\")\n",
    "    "
   ]
  },
  {
   "cell_type": "code",
   "execution_count": 569,
   "metadata": {},
   "outputs": [
    {
     "name": "stdout",
     "output_type": "stream",
     "text": [
      "(201, 5938.9, 'Non-Ensuite', 'Vaccant', 141)\n",
      "(202, 5938.9, 'Non-Ensuite', 'Vaccant', 141)\n",
      "(203, 5938.9, 'Non-Ensuite', 'Vaccant', 141)\n",
      "(204, 5938.9, 'Non-Ensuite', 'Vaccant', 141)\n",
      "(205, 5938.9, 'Non-Ensuite', 'Vaccant', 141)\n",
      "(206, 5938.9, 'Non-Ensuite', 'Booked', 141)\n",
      "(207, 5938.9, 'Non-Ensuite', 'Vaccant', 141)\n",
      "(208, 5938.9, 'Non-Ensuite', 'Booked', 141)\n",
      "(209, 5938.9, 'Non-Ensuite', 'Vaccant', 141)\n",
      "(210, 5938.9, 'Non-Ensuite', 'Vaccant', 141)\n",
      "(211, 5938.9, 'Non-Ensuite', 'Booked', 141)\n",
      "(301, 6598.9, 'Ensuite', 'Vaccant', 141)\n",
      "(302, 6598.9, 'Ensuite', 'Vaccant', 141)\n",
      "(303, 6598.9, 'Ensuite', 'Booked', 141)\n",
      "(304, 6598.9, 'Ensuite', 'Vaccant', 141)\n",
      "(305, 6598.9, 'Ensuite', 'Vaccant', 141)\n",
      "(306, 6598.9, 'Ensuite', 'Vaccant', 141)\n",
      "(307, 6598.9, 'Ensuite', 'Vaccant', 141)\n",
      "(308, 6598.9, 'Ensuite', 'Booked', 141)\n",
      "(309, 6598.9, 'Ensuite', 'Vaccant', 141)\n",
      "(310, 6598.9, 'Ensuite', 'Vaccant', 141)\n",
      "(2033, 0, 'Extra', 'Vaccant', 141)\n",
      "(3033, 0, 'Extra', 'Vaccant', 141)\n"
     ]
    }
   ],
   "source": [
    "\n",
    "query= \"Select * from Room\"\n",
    "cur.execute(query)\n",
    "updated_values= cur.fetchall()\n",
    "for room in updated_values:\n",
    "    print(room)"
   ]
  },
  {
   "cell_type": "markdown",
   "metadata": {},
   "source": [
    "One student who cancelled his registration, so we are deleting his payment record. Then we can only delete his booking. But we still want to keep his record in our database for future reference and booking."
   ]
  },
  {
   "cell_type": "code",
   "execution_count": 570,
   "metadata": {},
   "outputs": [
    {
     "name": "stdout",
     "output_type": "stream",
     "text": [
      "Record deleted succesfully\n"
     ]
    }
   ],
   "source": [
    "query= '''\n",
    "\n",
    "Delete from Payment where Pay_ID = 1125;\n",
    "\n",
    "\n",
    "'''\n",
    "try:\n",
    "    cur.execute(query)\n",
    "    conn.commit()\n",
    "    print(\"Record deleted succesfully\")\n",
    "    \n",
    "except:\n",
    "    conn.rollback()\n",
    "    print(\"changes failed and rollbacked again\")   \n",
    "\n"
   ]
  },
  {
   "cell_type": "code",
   "execution_count": null,
   "metadata": {},
   "outputs": [],
   "source": []
  },
  {
   "cell_type": "code",
   "execution_count": 571,
   "metadata": {},
   "outputs": [
    {
     "name": "stdout",
     "output_type": "stream",
     "text": [
      "(1121, 99999901, '03/2021', 'Success', 2000)\n",
      "(1122, 99999902, '03/2021', 'Success', 2000)\n",
      "(1123, 99999903, '04/2021', 'Success', 1800)\n",
      "(1124, 99999904, '04/2021', 'Success', 2500)\n",
      "(1126, 99999901, '04/2021', 'Failed', 0)\n",
      "(1127, 99999902, '03/2021', 'Success', 2850)\n",
      "(1128, 99999903, '04/2021', 'Success', 2000)\n",
      "(1129, 99999904, '03/2021', 'Failed', 0)\n",
      "(1130, 99999904, '04/2021', 'Success', 2250)\n",
      "(1132, 99999902, '04/2021', 'Success', 2000)\n",
      "(1133, 99999901, '04/2021', 'Failed', 0)\n"
     ]
    }
   ],
   "source": [
    "query='''\n",
    "\n",
    "select * from payment \n",
    "\n",
    "'''\n",
    "cur.execute(query)\n",
    "values=cur.fetchall()\n",
    "for x in values:\n",
    "    print(x) ##1125 will be deleted from records"
   ]
  },
  {
   "cell_type": "code",
   "execution_count": 572,
   "metadata": {},
   "outputs": [],
   "source": [
    "#after deleting from child table, we can delete from parent table\n",
    "query= '''\n",
    "\n",
    "Delete from Booking where B_ID = 99999905;\n",
    "\n",
    "'''\n",
    "cur.execute(query)\n",
    "conn.commit()\n"
   ]
  },
  {
   "cell_type": "code",
   "execution_count": 573,
   "metadata": {},
   "outputs": [
    {
     "name": "stdout",
     "output_type": "stream",
     "text": [
      "(99999901, 700000061, 301, '20/05/2021', '19/04/2022')\n",
      "(99999902, 700000021, 203, '28/05/2021', '19/04/2022')\n",
      "(99999903, 700000043, 302, '31/05/2021', '19/04/2022')\n",
      "(99999904, 700000045, 206, '16/04/2021', '19/04/2022')\n"
     ]
    }
   ],
   "source": [
    "query= \"select * from booking\"\n",
    "cur.execute(query)\n",
    "n= cur.fetchall()\n",
    "for x in n:\n",
    "    print(x)"
   ]
  },
  {
   "cell_type": "code",
   "execution_count": 574,
   "metadata": {},
   "outputs": [
    {
     "name": "stdout",
     "output_type": "stream",
     "text": [
      "(201, 5938.9, 'Non-Ensuite', 'Vaccant', 141)\n",
      "(202, 5938.9, 'Non-Ensuite', 'Vaccant', 141)\n",
      "(203, 5938.9, 'Non-Ensuite', 'Vaccant', 141)\n",
      "(204, 5938.9, 'Non-Ensuite', 'Vaccant', 141)\n",
      "(205, 5938.9, 'Non-Ensuite', 'Vaccant', 141)\n",
      "(206, 5938.9, 'Non-Ensuite', 'Booked', 141)\n",
      "(207, 5938.9, 'Non-Ensuite', 'Vaccant', 141)\n",
      "(208, 5938.9, 'Non-Ensuite', 'Booked', 141)\n",
      "(209, 5938.9, 'Non-Ensuite', 'Vaccant', 141)\n",
      "(210, 5938.9, 'Non-Ensuite', 'Vaccant', 141)\n",
      "(211, 5938.9, 'Non-Ensuite', 'Booked', 141)\n",
      "(301, 6598.9, 'Ensuite', 'Vaccant', 141)\n",
      "(302, 6598.9, 'Ensuite', 'Vaccant', 141)\n",
      "(303, 6598.9, 'Ensuite', 'Vaccant', 141)\n",
      "(304, 6598.9, 'Ensuite', 'Vaccant', 141)\n",
      "(305, 6598.9, 'Ensuite', 'Vaccant', 141)\n",
      "(306, 6598.9, 'Ensuite', 'Vaccant', 141)\n",
      "(307, 6598.9, 'Ensuite', 'Vaccant', 141)\n",
      "(308, 6598.9, 'Ensuite', 'Booked', 141)\n",
      "(309, 6598.9, 'Ensuite', 'Vaccant', 141)\n",
      "(310, 6598.9, 'Ensuite', 'Vaccant', 141)\n",
      "(2033, 0, 'Extra', 'Vaccant', 141)\n",
      "(3033, 0, 'Extra', 'Vaccant', 141)\n"
     ]
    }
   ],
   "source": [
    "query= \"update room set R_Status= 'Vaccant'  where R_ID= 303;\"\n",
    "\n",
    "cur.execute(query)\n",
    "query= \"select * from Room\"\n",
    "cur.execute(query)\n",
    "value= cur.fetchall()\n",
    "\n",
    "for values in  value:\n",
    "    print(values)"
   ]
  },
  {
   "cell_type": "code",
   "execution_count": 575,
   "metadata": {},
   "outputs": [],
   "source": [
    "\n",
    "import pandas as pd\n"
   ]
  },
  {
   "cell_type": "markdown",
   "metadata": {},
   "source": [
    "# No-SQL Redis"
   ]
  },
  {
   "cell_type": "code",
   "execution_count": 576,
   "metadata": {},
   "outputs": [],
   "source": [
    "#pip install redis"
   ]
  },
  {
   "cell_type": "code",
   "execution_count": 577,
   "metadata": {},
   "outputs": [],
   "source": [
    "import redis"
   ]
  },
  {
   "cell_type": "code",
   "execution_count": 578,
   "metadata": {},
   "outputs": [
    {
     "name": "stdout",
     "output_type": "stream",
     "text": [
      "True\n"
     ]
    }
   ],
   "source": [
    "r= redis.Redis(host='localhost', port=6379, db=5) #USE the Database number 5\n",
    "print(r.ping())"
   ]
  },
  {
   "cell_type": "code",
   "execution_count": 579,
   "metadata": {},
   "outputs": [
    {
     "name": "stdout",
     "output_type": "stream",
     "text": [
      "(201, 5938.9, 'Non-Ensuite', 'Vaccant', 141)\n",
      "(202, 5938.9, 'Non-Ensuite', 'Vaccant', 141)\n",
      "(203, 5938.9, 'Non-Ensuite', 'Vaccant', 141)\n",
      "(204, 5938.9, 'Non-Ensuite', 'Vaccant', 141)\n",
      "(205, 5938.9, 'Non-Ensuite', 'Vaccant', 141)\n",
      "(206, 5938.9, 'Non-Ensuite', 'Booked', 141)\n",
      "(207, 5938.9, 'Non-Ensuite', 'Vaccant', 141)\n",
      "(208, 5938.9, 'Non-Ensuite', 'Booked', 141)\n",
      "(209, 5938.9, 'Non-Ensuite', 'Vaccant', 141)\n",
      "(210, 5938.9, 'Non-Ensuite', 'Vaccant', 141)\n",
      "(211, 5938.9, 'Non-Ensuite', 'Booked', 141)\n",
      "(301, 6598.9, 'Ensuite', 'Vaccant', 141)\n",
      "(302, 6598.9, 'Ensuite', 'Vaccant', 141)\n",
      "(303, 6598.9, 'Ensuite', 'Booked', 141)\n",
      "(304, 6598.9, 'Ensuite', 'Vaccant', 141)\n",
      "(305, 6598.9, 'Ensuite', 'Vaccant', 141)\n",
      "(306, 6598.9, 'Ensuite', 'Vaccant', 141)\n",
      "(307, 6598.9, 'Ensuite', 'Vaccant', 141)\n",
      "(308, 6598.9, 'Ensuite', 'Booked', 141)\n",
      "(309, 6598.9, 'Ensuite', 'Vaccant', 141)\n",
      "(310, 6598.9, 'Ensuite', 'Vaccant', 141)\n",
      "(2033, 0, 'Extra', 'Vaccant', 141)\n",
      "(3033, 0, 'Extra', 'Vaccant', 141)\n"
     ]
    }
   ],
   "source": [
    "for room in updated_values:\n",
    "    print (room)"
   ]
  },
  {
   "cell_type": "code",
   "execution_count": 580,
   "metadata": {},
   "outputs": [
    {
     "name": "stdout",
     "output_type": "stream",
     "text": [
      "(201, 5938.9, 'Non-Ensuite', 'Vaccant', 141)\n",
      "(202, 5938.9, 'Non-Ensuite', 'Vaccant', 141)\n",
      "(203, 5938.9, 'Non-Ensuite', 'Vaccant', 141)\n",
      "(204, 5938.9, 'Non-Ensuite', 'Vaccant', 141)\n",
      "(205, 5938.9, 'Non-Ensuite', 'Vaccant', 141)\n",
      "(207, 5938.9, 'Non-Ensuite', 'Vaccant', 141)\n",
      "(209, 5938.9, 'Non-Ensuite', 'Vaccant', 141)\n",
      "(210, 5938.9, 'Non-Ensuite', 'Vaccant', 141)\n",
      "(301, 6598.9, 'Ensuite', 'Vaccant', 141)\n",
      "(302, 6598.9, 'Ensuite', 'Vaccant', 141)\n",
      "(303, 6598.9, 'Ensuite', 'Vaccant', 141)\n",
      "(304, 6598.9, 'Ensuite', 'Vaccant', 141)\n",
      "(305, 6598.9, 'Ensuite', 'Vaccant', 141)\n",
      "(306, 6598.9, 'Ensuite', 'Vaccant', 141)\n",
      "(307, 6598.9, 'Ensuite', 'Vaccant', 141)\n",
      "(309, 6598.9, 'Ensuite', 'Vaccant', 141)\n",
      "(310, 6598.9, 'Ensuite', 'Vaccant', 141)\n"
     ]
    }
   ],
   "source": [
    "# filter all the vacant rooms\n",
    "query= \"select * from Room where R_ID between 200 and 400 And R_Status= 'Vaccant'; \"\n",
    "cur.execute(query)\n",
    "values=cur.fetchall()\n",
    "for x in values:\n",
    "    print(x)"
   ]
  },
  {
   "cell_type": "code",
   "execution_count": 581,
   "metadata": {},
   "outputs": [],
   "source": [
    "#Since, we only adverstise  those rooms which are available for students.\n",
    "#The other two rooms are being used by management in case of emergency.\n"
   ]
  },
  {
   "cell_type": "code",
   "execution_count": null,
   "metadata": {},
   "outputs": [],
   "source": []
  },
  {
   "cell_type": "code",
   "execution_count": 582,
   "metadata": {},
   "outputs": [
    {
     "data": {
      "text/html": [
       "<div>\n",
       "<style scoped>\n",
       "    .dataframe tbody tr th:only-of-type {\n",
       "        vertical-align: middle;\n",
       "    }\n",
       "\n",
       "    .dataframe tbody tr th {\n",
       "        vertical-align: top;\n",
       "    }\n",
       "\n",
       "    .dataframe thead th {\n",
       "        text-align: right;\n",
       "    }\n",
       "</style>\n",
       "<table border=\"1\" class=\"dataframe\">\n",
       "  <thead>\n",
       "    <tr style=\"text-align: right;\">\n",
       "      <th></th>\n",
       "      <th>R_ID</th>\n",
       "      <th>R_Price</th>\n",
       "      <th>R_Type</th>\n",
       "      <th>R_Status</th>\n",
       "      <th>H_ID</th>\n",
       "    </tr>\n",
       "  </thead>\n",
       "  <tbody>\n",
       "    <tr>\n",
       "      <th>0</th>\n",
       "      <td>201</td>\n",
       "      <td>5938.9</td>\n",
       "      <td>Non-Ensuite</td>\n",
       "      <td>Vaccant</td>\n",
       "      <td>141</td>\n",
       "    </tr>\n",
       "    <tr>\n",
       "      <th>1</th>\n",
       "      <td>202</td>\n",
       "      <td>5938.9</td>\n",
       "      <td>Non-Ensuite</td>\n",
       "      <td>Vaccant</td>\n",
       "      <td>141</td>\n",
       "    </tr>\n",
       "    <tr>\n",
       "      <th>2</th>\n",
       "      <td>203</td>\n",
       "      <td>5938.9</td>\n",
       "      <td>Non-Ensuite</td>\n",
       "      <td>Vaccant</td>\n",
       "      <td>141</td>\n",
       "    </tr>\n",
       "    <tr>\n",
       "      <th>3</th>\n",
       "      <td>204</td>\n",
       "      <td>5938.9</td>\n",
       "      <td>Non-Ensuite</td>\n",
       "      <td>Vaccant</td>\n",
       "      <td>141</td>\n",
       "    </tr>\n",
       "    <tr>\n",
       "      <th>4</th>\n",
       "      <td>205</td>\n",
       "      <td>5938.9</td>\n",
       "      <td>Non-Ensuite</td>\n",
       "      <td>Vaccant</td>\n",
       "      <td>141</td>\n",
       "    </tr>\n",
       "    <tr>\n",
       "      <th>5</th>\n",
       "      <td>207</td>\n",
       "      <td>5938.9</td>\n",
       "      <td>Non-Ensuite</td>\n",
       "      <td>Vaccant</td>\n",
       "      <td>141</td>\n",
       "    </tr>\n",
       "    <tr>\n",
       "      <th>6</th>\n",
       "      <td>209</td>\n",
       "      <td>5938.9</td>\n",
       "      <td>Non-Ensuite</td>\n",
       "      <td>Vaccant</td>\n",
       "      <td>141</td>\n",
       "    </tr>\n",
       "    <tr>\n",
       "      <th>7</th>\n",
       "      <td>210</td>\n",
       "      <td>5938.9</td>\n",
       "      <td>Non-Ensuite</td>\n",
       "      <td>Vaccant</td>\n",
       "      <td>141</td>\n",
       "    </tr>\n",
       "    <tr>\n",
       "      <th>8</th>\n",
       "      <td>301</td>\n",
       "      <td>6598.9</td>\n",
       "      <td>Ensuite</td>\n",
       "      <td>Vaccant</td>\n",
       "      <td>141</td>\n",
       "    </tr>\n",
       "    <tr>\n",
       "      <th>9</th>\n",
       "      <td>302</td>\n",
       "      <td>6598.9</td>\n",
       "      <td>Ensuite</td>\n",
       "      <td>Vaccant</td>\n",
       "      <td>141</td>\n",
       "    </tr>\n",
       "    <tr>\n",
       "      <th>10</th>\n",
       "      <td>303</td>\n",
       "      <td>6598.9</td>\n",
       "      <td>Ensuite</td>\n",
       "      <td>Vaccant</td>\n",
       "      <td>141</td>\n",
       "    </tr>\n",
       "    <tr>\n",
       "      <th>11</th>\n",
       "      <td>304</td>\n",
       "      <td>6598.9</td>\n",
       "      <td>Ensuite</td>\n",
       "      <td>Vaccant</td>\n",
       "      <td>141</td>\n",
       "    </tr>\n",
       "    <tr>\n",
       "      <th>12</th>\n",
       "      <td>305</td>\n",
       "      <td>6598.9</td>\n",
       "      <td>Ensuite</td>\n",
       "      <td>Vaccant</td>\n",
       "      <td>141</td>\n",
       "    </tr>\n",
       "    <tr>\n",
       "      <th>13</th>\n",
       "      <td>306</td>\n",
       "      <td>6598.9</td>\n",
       "      <td>Ensuite</td>\n",
       "      <td>Vaccant</td>\n",
       "      <td>141</td>\n",
       "    </tr>\n",
       "    <tr>\n",
       "      <th>14</th>\n",
       "      <td>307</td>\n",
       "      <td>6598.9</td>\n",
       "      <td>Ensuite</td>\n",
       "      <td>Vaccant</td>\n",
       "      <td>141</td>\n",
       "    </tr>\n",
       "    <tr>\n",
       "      <th>15</th>\n",
       "      <td>309</td>\n",
       "      <td>6598.9</td>\n",
       "      <td>Ensuite</td>\n",
       "      <td>Vaccant</td>\n",
       "      <td>141</td>\n",
       "    </tr>\n",
       "    <tr>\n",
       "      <th>16</th>\n",
       "      <td>310</td>\n",
       "      <td>6598.9</td>\n",
       "      <td>Ensuite</td>\n",
       "      <td>Vaccant</td>\n",
       "      <td>141</td>\n",
       "    </tr>\n",
       "  </tbody>\n",
       "</table>\n",
       "</div>"
      ],
      "text/plain": [
       "    R_ID  R_Price       R_Type R_Status  H_ID\n",
       "0    201   5938.9  Non-Ensuite  Vaccant   141\n",
       "1    202   5938.9  Non-Ensuite  Vaccant   141\n",
       "2    203   5938.9  Non-Ensuite  Vaccant   141\n",
       "3    204   5938.9  Non-Ensuite  Vaccant   141\n",
       "4    205   5938.9  Non-Ensuite  Vaccant   141\n",
       "5    207   5938.9  Non-Ensuite  Vaccant   141\n",
       "6    209   5938.9  Non-Ensuite  Vaccant   141\n",
       "7    210   5938.9  Non-Ensuite  Vaccant   141\n",
       "8    301   6598.9      Ensuite  Vaccant   141\n",
       "9    302   6598.9      Ensuite  Vaccant   141\n",
       "10   303   6598.9      Ensuite  Vaccant   141\n",
       "11   304   6598.9      Ensuite  Vaccant   141\n",
       "12   305   6598.9      Ensuite  Vaccant   141\n",
       "13   306   6598.9      Ensuite  Vaccant   141\n",
       "14   307   6598.9      Ensuite  Vaccant   141\n",
       "15   309   6598.9      Ensuite  Vaccant   141\n",
       "16   310   6598.9      Ensuite  Vaccant   141"
      ]
     },
     "execution_count": 582,
     "metadata": {},
     "output_type": "execute_result"
    }
   ],
   "source": [
    "\n",
    "DF= pd.DataFrame(values, columns=[\"R_ID\", \"R_Price\",'R_Type',\"R_Status\",\"H_ID\"])\n",
    "DF"
   ]
  },
  {
   "cell_type": "code",
   "execution_count": null,
   "metadata": {},
   "outputs": [],
   "source": []
  },
  {
   "cell_type": "code",
   "execution_count": 583,
   "metadata": {},
   "outputs": [
    {
     "name": "stdout",
     "output_type": "stream",
     "text": [
      "    R_ID  R_Price       R_Type R_Status  H_ID\n",
      "0    201   5938.9  Non-Ensuite  Vaccant   141\n",
      "1    202   5938.9  Non-Ensuite  Vaccant   141\n",
      "2    203   5938.9  Non-Ensuite  Vaccant   141\n",
      "3    204   5938.9  Non-Ensuite  Vaccant   141\n",
      "4    205   5938.9  Non-Ensuite  Vaccant   141\n",
      "5    207   5938.9  Non-Ensuite  Vaccant   141\n",
      "6    209   5938.9  Non-Ensuite  Vaccant   141\n",
      "7    210   5938.9  Non-Ensuite  Vaccant   141\n",
      "8    301   6598.9      Ensuite  Vaccant   141\n",
      "9    302   6598.9      Ensuite  Vaccant   141\n",
      "10   303   6598.9      Ensuite  Vaccant   141\n",
      "11   304   6598.9      Ensuite  Vaccant   141\n",
      "12   305   6598.9      Ensuite  Vaccant   141\n",
      "13   306   6598.9      Ensuite  Vaccant   141\n",
      "14   307   6598.9      Ensuite  Vaccant   141\n",
      "15   309   6598.9      Ensuite  Vaccant   141\n",
      "16   310   6598.9      Ensuite  Vaccant   141\n"
     ]
    }
   ],
   "source": [
    "print(DF)"
   ]
  },
  {
   "cell_type": "code",
   "execution_count": 584,
   "metadata": {},
   "outputs": [
    {
     "data": {
      "text/html": [
       "<div>\n",
       "<style scoped>\n",
       "    .dataframe tbody tr th:only-of-type {\n",
       "        vertical-align: middle;\n",
       "    }\n",
       "\n",
       "    .dataframe tbody tr th {\n",
       "        vertical-align: top;\n",
       "    }\n",
       "\n",
       "    .dataframe thead th {\n",
       "        text-align: right;\n",
       "    }\n",
       "</style>\n",
       "<table border=\"1\" class=\"dataframe\">\n",
       "  <thead>\n",
       "    <tr style=\"text-align: right;\">\n",
       "      <th></th>\n",
       "      <th>R_ID</th>\n",
       "      <th>R_Price</th>\n",
       "      <th>R_Type</th>\n",
       "      <th>R_Status</th>\n",
       "      <th>H_ID</th>\n",
       "    </tr>\n",
       "  </thead>\n",
       "  <tbody>\n",
       "    <tr>\n",
       "      <th>0</th>\n",
       "      <td>Room:201</td>\n",
       "      <td>5938.9</td>\n",
       "      <td>Non-Ensuite</td>\n",
       "      <td>Vaccant</td>\n",
       "      <td>141</td>\n",
       "    </tr>\n",
       "    <tr>\n",
       "      <th>1</th>\n",
       "      <td>Room:202</td>\n",
       "      <td>5938.9</td>\n",
       "      <td>Non-Ensuite</td>\n",
       "      <td>Vaccant</td>\n",
       "      <td>141</td>\n",
       "    </tr>\n",
       "    <tr>\n",
       "      <th>2</th>\n",
       "      <td>Room:203</td>\n",
       "      <td>5938.9</td>\n",
       "      <td>Non-Ensuite</td>\n",
       "      <td>Vaccant</td>\n",
       "      <td>141</td>\n",
       "    </tr>\n",
       "    <tr>\n",
       "      <th>3</th>\n",
       "      <td>Room:204</td>\n",
       "      <td>5938.9</td>\n",
       "      <td>Non-Ensuite</td>\n",
       "      <td>Vaccant</td>\n",
       "      <td>141</td>\n",
       "    </tr>\n",
       "    <tr>\n",
       "      <th>4</th>\n",
       "      <td>Room:205</td>\n",
       "      <td>5938.9</td>\n",
       "      <td>Non-Ensuite</td>\n",
       "      <td>Vaccant</td>\n",
       "      <td>141</td>\n",
       "    </tr>\n",
       "    <tr>\n",
       "      <th>5</th>\n",
       "      <td>Room:207</td>\n",
       "      <td>5938.9</td>\n",
       "      <td>Non-Ensuite</td>\n",
       "      <td>Vaccant</td>\n",
       "      <td>141</td>\n",
       "    </tr>\n",
       "    <tr>\n",
       "      <th>6</th>\n",
       "      <td>Room:209</td>\n",
       "      <td>5938.9</td>\n",
       "      <td>Non-Ensuite</td>\n",
       "      <td>Vaccant</td>\n",
       "      <td>141</td>\n",
       "    </tr>\n",
       "    <tr>\n",
       "      <th>7</th>\n",
       "      <td>Room:210</td>\n",
       "      <td>5938.9</td>\n",
       "      <td>Non-Ensuite</td>\n",
       "      <td>Vaccant</td>\n",
       "      <td>141</td>\n",
       "    </tr>\n",
       "    <tr>\n",
       "      <th>8</th>\n",
       "      <td>Room:301</td>\n",
       "      <td>6598.9</td>\n",
       "      <td>Ensuite</td>\n",
       "      <td>Vaccant</td>\n",
       "      <td>141</td>\n",
       "    </tr>\n",
       "    <tr>\n",
       "      <th>9</th>\n",
       "      <td>Room:302</td>\n",
       "      <td>6598.9</td>\n",
       "      <td>Ensuite</td>\n",
       "      <td>Vaccant</td>\n",
       "      <td>141</td>\n",
       "    </tr>\n",
       "    <tr>\n",
       "      <th>10</th>\n",
       "      <td>Room:303</td>\n",
       "      <td>6598.9</td>\n",
       "      <td>Ensuite</td>\n",
       "      <td>Vaccant</td>\n",
       "      <td>141</td>\n",
       "    </tr>\n",
       "    <tr>\n",
       "      <th>11</th>\n",
       "      <td>Room:304</td>\n",
       "      <td>6598.9</td>\n",
       "      <td>Ensuite</td>\n",
       "      <td>Vaccant</td>\n",
       "      <td>141</td>\n",
       "    </tr>\n",
       "    <tr>\n",
       "      <th>12</th>\n",
       "      <td>Room:305</td>\n",
       "      <td>6598.9</td>\n",
       "      <td>Ensuite</td>\n",
       "      <td>Vaccant</td>\n",
       "      <td>141</td>\n",
       "    </tr>\n",
       "    <tr>\n",
       "      <th>13</th>\n",
       "      <td>Room:306</td>\n",
       "      <td>6598.9</td>\n",
       "      <td>Ensuite</td>\n",
       "      <td>Vaccant</td>\n",
       "      <td>141</td>\n",
       "    </tr>\n",
       "    <tr>\n",
       "      <th>14</th>\n",
       "      <td>Room:307</td>\n",
       "      <td>6598.9</td>\n",
       "      <td>Ensuite</td>\n",
       "      <td>Vaccant</td>\n",
       "      <td>141</td>\n",
       "    </tr>\n",
       "    <tr>\n",
       "      <th>15</th>\n",
       "      <td>Room:309</td>\n",
       "      <td>6598.9</td>\n",
       "      <td>Ensuite</td>\n",
       "      <td>Vaccant</td>\n",
       "      <td>141</td>\n",
       "    </tr>\n",
       "    <tr>\n",
       "      <th>16</th>\n",
       "      <td>Room:310</td>\n",
       "      <td>6598.9</td>\n",
       "      <td>Ensuite</td>\n",
       "      <td>Vaccant</td>\n",
       "      <td>141</td>\n",
       "    </tr>\n",
       "  </tbody>\n",
       "</table>\n",
       "</div>"
      ],
      "text/plain": [
       "        R_ID  R_Price       R_Type R_Status  H_ID\n",
       "0   Room:201   5938.9  Non-Ensuite  Vaccant   141\n",
       "1   Room:202   5938.9  Non-Ensuite  Vaccant   141\n",
       "2   Room:203   5938.9  Non-Ensuite  Vaccant   141\n",
       "3   Room:204   5938.9  Non-Ensuite  Vaccant   141\n",
       "4   Room:205   5938.9  Non-Ensuite  Vaccant   141\n",
       "5   Room:207   5938.9  Non-Ensuite  Vaccant   141\n",
       "6   Room:209   5938.9  Non-Ensuite  Vaccant   141\n",
       "7   Room:210   5938.9  Non-Ensuite  Vaccant   141\n",
       "8   Room:301   6598.9      Ensuite  Vaccant   141\n",
       "9   Room:302   6598.9      Ensuite  Vaccant   141\n",
       "10  Room:303   6598.9      Ensuite  Vaccant   141\n",
       "11  Room:304   6598.9      Ensuite  Vaccant   141\n",
       "12  Room:305   6598.9      Ensuite  Vaccant   141\n",
       "13  Room:306   6598.9      Ensuite  Vaccant   141\n",
       "14  Room:307   6598.9      Ensuite  Vaccant   141\n",
       "15  Room:309   6598.9      Ensuite  Vaccant   141\n",
       "16  Room:310   6598.9      Ensuite  Vaccant   141"
      ]
     },
     "execution_count": 584,
     "metadata": {},
     "output_type": "execute_result"
    }
   ],
   "source": [
    "\n",
    "DF['R_ID']= \"Room:\" +DF['R_ID'].astype(str)\n",
    "DF"
   ]
  },
  {
   "cell_type": "code",
   "execution_count": 585,
   "metadata": {},
   "outputs": [
    {
     "data": {
      "text/html": [
       "<div>\n",
       "<style scoped>\n",
       "    .dataframe tbody tr th:only-of-type {\n",
       "        vertical-align: middle;\n",
       "    }\n",
       "\n",
       "    .dataframe tbody tr th {\n",
       "        vertical-align: top;\n",
       "    }\n",
       "\n",
       "    .dataframe thead th {\n",
       "        text-align: right;\n",
       "    }\n",
       "</style>\n",
       "<table border=\"1\" class=\"dataframe\">\n",
       "  <thead>\n",
       "    <tr style=\"text-align: right;\">\n",
       "      <th></th>\n",
       "      <th>R_ID</th>\n",
       "      <th>R_Price</th>\n",
       "      <th>R_Type</th>\n",
       "      <th>R_Status</th>\n",
       "      <th>H_ID</th>\n",
       "      <th>R_ID_INDEX</th>\n",
       "    </tr>\n",
       "  </thead>\n",
       "  <tbody>\n",
       "    <tr>\n",
       "      <th>0</th>\n",
       "      <td>Room:201</td>\n",
       "      <td>5938.9</td>\n",
       "      <td>Non-Ensuite</td>\n",
       "      <td>Vaccant</td>\n",
       "      <td>141</td>\n",
       "      <td>Room:201</td>\n",
       "    </tr>\n",
       "    <tr>\n",
       "      <th>1</th>\n",
       "      <td>Room:202</td>\n",
       "      <td>5938.9</td>\n",
       "      <td>Non-Ensuite</td>\n",
       "      <td>Vaccant</td>\n",
       "      <td>141</td>\n",
       "      <td>Room:202</td>\n",
       "    </tr>\n",
       "    <tr>\n",
       "      <th>2</th>\n",
       "      <td>Room:203</td>\n",
       "      <td>5938.9</td>\n",
       "      <td>Non-Ensuite</td>\n",
       "      <td>Vaccant</td>\n",
       "      <td>141</td>\n",
       "      <td>Room:203</td>\n",
       "    </tr>\n",
       "    <tr>\n",
       "      <th>3</th>\n",
       "      <td>Room:204</td>\n",
       "      <td>5938.9</td>\n",
       "      <td>Non-Ensuite</td>\n",
       "      <td>Vaccant</td>\n",
       "      <td>141</td>\n",
       "      <td>Room:204</td>\n",
       "    </tr>\n",
       "    <tr>\n",
       "      <th>4</th>\n",
       "      <td>Room:205</td>\n",
       "      <td>5938.9</td>\n",
       "      <td>Non-Ensuite</td>\n",
       "      <td>Vaccant</td>\n",
       "      <td>141</td>\n",
       "      <td>Room:205</td>\n",
       "    </tr>\n",
       "    <tr>\n",
       "      <th>5</th>\n",
       "      <td>Room:207</td>\n",
       "      <td>5938.9</td>\n",
       "      <td>Non-Ensuite</td>\n",
       "      <td>Vaccant</td>\n",
       "      <td>141</td>\n",
       "      <td>Room:207</td>\n",
       "    </tr>\n",
       "    <tr>\n",
       "      <th>6</th>\n",
       "      <td>Room:209</td>\n",
       "      <td>5938.9</td>\n",
       "      <td>Non-Ensuite</td>\n",
       "      <td>Vaccant</td>\n",
       "      <td>141</td>\n",
       "      <td>Room:209</td>\n",
       "    </tr>\n",
       "    <tr>\n",
       "      <th>7</th>\n",
       "      <td>Room:210</td>\n",
       "      <td>5938.9</td>\n",
       "      <td>Non-Ensuite</td>\n",
       "      <td>Vaccant</td>\n",
       "      <td>141</td>\n",
       "      <td>Room:210</td>\n",
       "    </tr>\n",
       "    <tr>\n",
       "      <th>8</th>\n",
       "      <td>Room:301</td>\n",
       "      <td>6598.9</td>\n",
       "      <td>Ensuite</td>\n",
       "      <td>Vaccant</td>\n",
       "      <td>141</td>\n",
       "      <td>Room:301</td>\n",
       "    </tr>\n",
       "    <tr>\n",
       "      <th>9</th>\n",
       "      <td>Room:302</td>\n",
       "      <td>6598.9</td>\n",
       "      <td>Ensuite</td>\n",
       "      <td>Vaccant</td>\n",
       "      <td>141</td>\n",
       "      <td>Room:302</td>\n",
       "    </tr>\n",
       "    <tr>\n",
       "      <th>10</th>\n",
       "      <td>Room:303</td>\n",
       "      <td>6598.9</td>\n",
       "      <td>Ensuite</td>\n",
       "      <td>Vaccant</td>\n",
       "      <td>141</td>\n",
       "      <td>Room:303</td>\n",
       "    </tr>\n",
       "    <tr>\n",
       "      <th>11</th>\n",
       "      <td>Room:304</td>\n",
       "      <td>6598.9</td>\n",
       "      <td>Ensuite</td>\n",
       "      <td>Vaccant</td>\n",
       "      <td>141</td>\n",
       "      <td>Room:304</td>\n",
       "    </tr>\n",
       "    <tr>\n",
       "      <th>12</th>\n",
       "      <td>Room:305</td>\n",
       "      <td>6598.9</td>\n",
       "      <td>Ensuite</td>\n",
       "      <td>Vaccant</td>\n",
       "      <td>141</td>\n",
       "      <td>Room:305</td>\n",
       "    </tr>\n",
       "    <tr>\n",
       "      <th>13</th>\n",
       "      <td>Room:306</td>\n",
       "      <td>6598.9</td>\n",
       "      <td>Ensuite</td>\n",
       "      <td>Vaccant</td>\n",
       "      <td>141</td>\n",
       "      <td>Room:306</td>\n",
       "    </tr>\n",
       "    <tr>\n",
       "      <th>14</th>\n",
       "      <td>Room:307</td>\n",
       "      <td>6598.9</td>\n",
       "      <td>Ensuite</td>\n",
       "      <td>Vaccant</td>\n",
       "      <td>141</td>\n",
       "      <td>Room:307</td>\n",
       "    </tr>\n",
       "    <tr>\n",
       "      <th>15</th>\n",
       "      <td>Room:309</td>\n",
       "      <td>6598.9</td>\n",
       "      <td>Ensuite</td>\n",
       "      <td>Vaccant</td>\n",
       "      <td>141</td>\n",
       "      <td>Room:309</td>\n",
       "    </tr>\n",
       "    <tr>\n",
       "      <th>16</th>\n",
       "      <td>Room:310</td>\n",
       "      <td>6598.9</td>\n",
       "      <td>Ensuite</td>\n",
       "      <td>Vaccant</td>\n",
       "      <td>141</td>\n",
       "      <td>Room:310</td>\n",
       "    </tr>\n",
       "  </tbody>\n",
       "</table>\n",
       "</div>"
      ],
      "text/plain": [
       "        R_ID  R_Price       R_Type R_Status  H_ID R_ID_INDEX\n",
       "0   Room:201   5938.9  Non-Ensuite  Vaccant   141   Room:201\n",
       "1   Room:202   5938.9  Non-Ensuite  Vaccant   141   Room:202\n",
       "2   Room:203   5938.9  Non-Ensuite  Vaccant   141   Room:203\n",
       "3   Room:204   5938.9  Non-Ensuite  Vaccant   141   Room:204\n",
       "4   Room:205   5938.9  Non-Ensuite  Vaccant   141   Room:205\n",
       "5   Room:207   5938.9  Non-Ensuite  Vaccant   141   Room:207\n",
       "6   Room:209   5938.9  Non-Ensuite  Vaccant   141   Room:209\n",
       "7   Room:210   5938.9  Non-Ensuite  Vaccant   141   Room:210\n",
       "8   Room:301   6598.9      Ensuite  Vaccant   141   Room:301\n",
       "9   Room:302   6598.9      Ensuite  Vaccant   141   Room:302\n",
       "10  Room:303   6598.9      Ensuite  Vaccant   141   Room:303\n",
       "11  Room:304   6598.9      Ensuite  Vaccant   141   Room:304\n",
       "12  Room:305   6598.9      Ensuite  Vaccant   141   Room:305\n",
       "13  Room:306   6598.9      Ensuite  Vaccant   141   Room:306\n",
       "14  Room:307   6598.9      Ensuite  Vaccant   141   Room:307\n",
       "15  Room:309   6598.9      Ensuite  Vaccant   141   Room:309\n",
       "16  Room:310   6598.9      Ensuite  Vaccant   141   Room:310"
      ]
     },
     "execution_count": 585,
     "metadata": {},
     "output_type": "execute_result"
    }
   ],
   "source": [
    "DF['R_ID_INDEX']=DF['R_ID']\n",
    "DF"
   ]
  },
  {
   "cell_type": "code",
   "execution_count": 586,
   "metadata": {},
   "outputs": [],
   "source": [
    "#DF.drop('index',axis=1,inplace=True)"
   ]
  },
  {
   "cell_type": "code",
   "execution_count": 587,
   "metadata": {},
   "outputs": [],
   "source": [
    "DF.set_index('R_ID_INDEX', inplace=True)# in order to make R_ID_Index column as index,\n",
    "                                    #we have used set index command\n",
    "                                    "
   ]
  },
  {
   "cell_type": "code",
   "execution_count": 588,
   "metadata": {},
   "outputs": [],
   "source": [
    "DF['R_ID']=DF['R_ID'].str.slice(5,9)"
   ]
  },
  {
   "cell_type": "code",
   "execution_count": 589,
   "metadata": {},
   "outputs": [
    {
     "data": {
      "text/html": [
       "<div>\n",
       "<style scoped>\n",
       "    .dataframe tbody tr th:only-of-type {\n",
       "        vertical-align: middle;\n",
       "    }\n",
       "\n",
       "    .dataframe tbody tr th {\n",
       "        vertical-align: top;\n",
       "    }\n",
       "\n",
       "    .dataframe thead th {\n",
       "        text-align: right;\n",
       "    }\n",
       "</style>\n",
       "<table border=\"1\" class=\"dataframe\">\n",
       "  <thead>\n",
       "    <tr style=\"text-align: right;\">\n",
       "      <th></th>\n",
       "      <th>R_ID</th>\n",
       "      <th>R_Price</th>\n",
       "      <th>R_Type</th>\n",
       "      <th>R_Status</th>\n",
       "      <th>H_ID</th>\n",
       "    </tr>\n",
       "    <tr>\n",
       "      <th>R_ID_INDEX</th>\n",
       "      <th></th>\n",
       "      <th></th>\n",
       "      <th></th>\n",
       "      <th></th>\n",
       "      <th></th>\n",
       "    </tr>\n",
       "  </thead>\n",
       "  <tbody>\n",
       "    <tr>\n",
       "      <th>Room:201</th>\n",
       "      <td>201</td>\n",
       "      <td>5938.9</td>\n",
       "      <td>Non-Ensuite</td>\n",
       "      <td>Vaccant</td>\n",
       "      <td>141</td>\n",
       "    </tr>\n",
       "    <tr>\n",
       "      <th>Room:202</th>\n",
       "      <td>202</td>\n",
       "      <td>5938.9</td>\n",
       "      <td>Non-Ensuite</td>\n",
       "      <td>Vaccant</td>\n",
       "      <td>141</td>\n",
       "    </tr>\n",
       "    <tr>\n",
       "      <th>Room:203</th>\n",
       "      <td>203</td>\n",
       "      <td>5938.9</td>\n",
       "      <td>Non-Ensuite</td>\n",
       "      <td>Vaccant</td>\n",
       "      <td>141</td>\n",
       "    </tr>\n",
       "    <tr>\n",
       "      <th>Room:204</th>\n",
       "      <td>204</td>\n",
       "      <td>5938.9</td>\n",
       "      <td>Non-Ensuite</td>\n",
       "      <td>Vaccant</td>\n",
       "      <td>141</td>\n",
       "    </tr>\n",
       "    <tr>\n",
       "      <th>Room:205</th>\n",
       "      <td>205</td>\n",
       "      <td>5938.9</td>\n",
       "      <td>Non-Ensuite</td>\n",
       "      <td>Vaccant</td>\n",
       "      <td>141</td>\n",
       "    </tr>\n",
       "    <tr>\n",
       "      <th>Room:207</th>\n",
       "      <td>207</td>\n",
       "      <td>5938.9</td>\n",
       "      <td>Non-Ensuite</td>\n",
       "      <td>Vaccant</td>\n",
       "      <td>141</td>\n",
       "    </tr>\n",
       "    <tr>\n",
       "      <th>Room:209</th>\n",
       "      <td>209</td>\n",
       "      <td>5938.9</td>\n",
       "      <td>Non-Ensuite</td>\n",
       "      <td>Vaccant</td>\n",
       "      <td>141</td>\n",
       "    </tr>\n",
       "    <tr>\n",
       "      <th>Room:210</th>\n",
       "      <td>210</td>\n",
       "      <td>5938.9</td>\n",
       "      <td>Non-Ensuite</td>\n",
       "      <td>Vaccant</td>\n",
       "      <td>141</td>\n",
       "    </tr>\n",
       "    <tr>\n",
       "      <th>Room:301</th>\n",
       "      <td>301</td>\n",
       "      <td>6598.9</td>\n",
       "      <td>Ensuite</td>\n",
       "      <td>Vaccant</td>\n",
       "      <td>141</td>\n",
       "    </tr>\n",
       "    <tr>\n",
       "      <th>Room:302</th>\n",
       "      <td>302</td>\n",
       "      <td>6598.9</td>\n",
       "      <td>Ensuite</td>\n",
       "      <td>Vaccant</td>\n",
       "      <td>141</td>\n",
       "    </tr>\n",
       "    <tr>\n",
       "      <th>Room:303</th>\n",
       "      <td>303</td>\n",
       "      <td>6598.9</td>\n",
       "      <td>Ensuite</td>\n",
       "      <td>Vaccant</td>\n",
       "      <td>141</td>\n",
       "    </tr>\n",
       "    <tr>\n",
       "      <th>Room:304</th>\n",
       "      <td>304</td>\n",
       "      <td>6598.9</td>\n",
       "      <td>Ensuite</td>\n",
       "      <td>Vaccant</td>\n",
       "      <td>141</td>\n",
       "    </tr>\n",
       "    <tr>\n",
       "      <th>Room:305</th>\n",
       "      <td>305</td>\n",
       "      <td>6598.9</td>\n",
       "      <td>Ensuite</td>\n",
       "      <td>Vaccant</td>\n",
       "      <td>141</td>\n",
       "    </tr>\n",
       "    <tr>\n",
       "      <th>Room:306</th>\n",
       "      <td>306</td>\n",
       "      <td>6598.9</td>\n",
       "      <td>Ensuite</td>\n",
       "      <td>Vaccant</td>\n",
       "      <td>141</td>\n",
       "    </tr>\n",
       "    <tr>\n",
       "      <th>Room:307</th>\n",
       "      <td>307</td>\n",
       "      <td>6598.9</td>\n",
       "      <td>Ensuite</td>\n",
       "      <td>Vaccant</td>\n",
       "      <td>141</td>\n",
       "    </tr>\n",
       "    <tr>\n",
       "      <th>Room:309</th>\n",
       "      <td>309</td>\n",
       "      <td>6598.9</td>\n",
       "      <td>Ensuite</td>\n",
       "      <td>Vaccant</td>\n",
       "      <td>141</td>\n",
       "    </tr>\n",
       "    <tr>\n",
       "      <th>Room:310</th>\n",
       "      <td>310</td>\n",
       "      <td>6598.9</td>\n",
       "      <td>Ensuite</td>\n",
       "      <td>Vaccant</td>\n",
       "      <td>141</td>\n",
       "    </tr>\n",
       "  </tbody>\n",
       "</table>\n",
       "</div>"
      ],
      "text/plain": [
       "           R_ID  R_Price       R_Type R_Status  H_ID\n",
       "R_ID_INDEX                                          \n",
       "Room:201    201   5938.9  Non-Ensuite  Vaccant   141\n",
       "Room:202    202   5938.9  Non-Ensuite  Vaccant   141\n",
       "Room:203    203   5938.9  Non-Ensuite  Vaccant   141\n",
       "Room:204    204   5938.9  Non-Ensuite  Vaccant   141\n",
       "Room:205    205   5938.9  Non-Ensuite  Vaccant   141\n",
       "Room:207    207   5938.9  Non-Ensuite  Vaccant   141\n",
       "Room:209    209   5938.9  Non-Ensuite  Vaccant   141\n",
       "Room:210    210   5938.9  Non-Ensuite  Vaccant   141\n",
       "Room:301    301   6598.9      Ensuite  Vaccant   141\n",
       "Room:302    302   6598.9      Ensuite  Vaccant   141\n",
       "Room:303    303   6598.9      Ensuite  Vaccant   141\n",
       "Room:304    304   6598.9      Ensuite  Vaccant   141\n",
       "Room:305    305   6598.9      Ensuite  Vaccant   141\n",
       "Room:306    306   6598.9      Ensuite  Vaccant   141\n",
       "Room:307    307   6598.9      Ensuite  Vaccant   141\n",
       "Room:309    309   6598.9      Ensuite  Vaccant   141\n",
       "Room:310    310   6598.9      Ensuite  Vaccant   141"
      ]
     },
     "execution_count": 589,
     "metadata": {},
     "output_type": "execute_result"
    }
   ],
   "source": [
    "DF"
   ]
  },
  {
   "cell_type": "markdown",
   "metadata": {},
   "source": [
    "# If you want to book a room, this is the list of all availble rooms."
   ]
  },
  {
   "cell_type": "code",
   "execution_count": 590,
   "metadata": {},
   "outputs": [],
   "source": [
    "DF=DF.to_dict('index') #convert the dataframe to dictonary"
   ]
  },
  {
   "cell_type": "code",
   "execution_count": 591,
   "metadata": {},
   "outputs": [
    {
     "data": {
      "text/plain": [
       "dict_keys(['Room:201', 'Room:202', 'Room:203', 'Room:204', 'Room:205', 'Room:207', 'Room:209', 'Room:210', 'Room:301', 'Room:302', 'Room:303', 'Room:304', 'Room:305', 'Room:306', 'Room:307', 'Room:309', 'Room:310'])"
      ]
     },
     "execution_count": 591,
     "metadata": {},
     "output_type": "execute_result"
    }
   ],
   "source": [
    "DF.keys()"
   ]
  },
  {
   "cell_type": "code",
   "execution_count": 592,
   "metadata": {},
   "outputs": [],
   "source": [
    "r = redis.Redis(host='localhost', port=6379, db=5, charset=\"utf-8\", decode_responses=True)\n",
    "#call the redis with database number 5 and string decode"
   ]
  },
  {
   "cell_type": "code",
   "execution_count": 593,
   "metadata": {},
   "outputs": [
    {
     "data": {
      "text/plain": [
       "dict_values([{'R_ID': '201', 'R_Price': 5938.9, 'R_Type': 'Non-Ensuite', 'R_Status': 'Vaccant', 'H_ID': 141}, {'R_ID': '202', 'R_Price': 5938.9, 'R_Type': 'Non-Ensuite', 'R_Status': 'Vaccant', 'H_ID': 141}, {'R_ID': '203', 'R_Price': 5938.9, 'R_Type': 'Non-Ensuite', 'R_Status': 'Vaccant', 'H_ID': 141}, {'R_ID': '204', 'R_Price': 5938.9, 'R_Type': 'Non-Ensuite', 'R_Status': 'Vaccant', 'H_ID': 141}, {'R_ID': '205', 'R_Price': 5938.9, 'R_Type': 'Non-Ensuite', 'R_Status': 'Vaccant', 'H_ID': 141}, {'R_ID': '207', 'R_Price': 5938.9, 'R_Type': 'Non-Ensuite', 'R_Status': 'Vaccant', 'H_ID': 141}, {'R_ID': '209', 'R_Price': 5938.9, 'R_Type': 'Non-Ensuite', 'R_Status': 'Vaccant', 'H_ID': 141}, {'R_ID': '210', 'R_Price': 5938.9, 'R_Type': 'Non-Ensuite', 'R_Status': 'Vaccant', 'H_ID': 141}, {'R_ID': '301', 'R_Price': 6598.9, 'R_Type': 'Ensuite', 'R_Status': 'Vaccant', 'H_ID': 141}, {'R_ID': '302', 'R_Price': 6598.9, 'R_Type': 'Ensuite', 'R_Status': 'Vaccant', 'H_ID': 141}, {'R_ID': '303', 'R_Price': 6598.9, 'R_Type': 'Ensuite', 'R_Status': 'Vaccant', 'H_ID': 141}, {'R_ID': '304', 'R_Price': 6598.9, 'R_Type': 'Ensuite', 'R_Status': 'Vaccant', 'H_ID': 141}, {'R_ID': '305', 'R_Price': 6598.9, 'R_Type': 'Ensuite', 'R_Status': 'Vaccant', 'H_ID': 141}, {'R_ID': '306', 'R_Price': 6598.9, 'R_Type': 'Ensuite', 'R_Status': 'Vaccant', 'H_ID': 141}, {'R_ID': '307', 'R_Price': 6598.9, 'R_Type': 'Ensuite', 'R_Status': 'Vaccant', 'H_ID': 141}, {'R_ID': '309', 'R_Price': 6598.9, 'R_Type': 'Ensuite', 'R_Status': 'Vaccant', 'H_ID': 141}, {'R_ID': '310', 'R_Price': 6598.9, 'R_Type': 'Ensuite', 'R_Status': 'Vaccant', 'H_ID': 141}])"
      ]
     },
     "execution_count": 593,
     "metadata": {},
     "output_type": "execute_result"
    }
   ],
   "source": [
    "DF.values()"
   ]
  },
  {
   "cell_type": "code",
   "execution_count": 594,
   "metadata": {},
   "outputs": [
    {
     "name": "stdout",
     "output_type": "stream",
     "text": [
      "Room ID: Room:201 Room Details:  {'R_ID': '201', 'R_Price': 5938.9, 'R_Type': 'Non-Ensuite', 'R_Status': 'Vaccant', 'H_ID': 141}\n",
      "Room ID: Room:202 Room Details:  {'R_ID': '202', 'R_Price': 5938.9, 'R_Type': 'Non-Ensuite', 'R_Status': 'Vaccant', 'H_ID': 141}\n",
      "Room ID: Room:203 Room Details:  {'R_ID': '203', 'R_Price': 5938.9, 'R_Type': 'Non-Ensuite', 'R_Status': 'Vaccant', 'H_ID': 141}\n",
      "Room ID: Room:204 Room Details:  {'R_ID': '204', 'R_Price': 5938.9, 'R_Type': 'Non-Ensuite', 'R_Status': 'Vaccant', 'H_ID': 141}\n",
      "Room ID: Room:205 Room Details:  {'R_ID': '205', 'R_Price': 5938.9, 'R_Type': 'Non-Ensuite', 'R_Status': 'Vaccant', 'H_ID': 141}\n",
      "Room ID: Room:207 Room Details:  {'R_ID': '207', 'R_Price': 5938.9, 'R_Type': 'Non-Ensuite', 'R_Status': 'Vaccant', 'H_ID': 141}\n",
      "Room ID: Room:209 Room Details:  {'R_ID': '209', 'R_Price': 5938.9, 'R_Type': 'Non-Ensuite', 'R_Status': 'Vaccant', 'H_ID': 141}\n",
      "Room ID: Room:210 Room Details:  {'R_ID': '210', 'R_Price': 5938.9, 'R_Type': 'Non-Ensuite', 'R_Status': 'Vaccant', 'H_ID': 141}\n",
      "Room ID: Room:301 Room Details:  {'R_ID': '301', 'R_Price': 6598.9, 'R_Type': 'Ensuite', 'R_Status': 'Vaccant', 'H_ID': 141}\n",
      "Room ID: Room:302 Room Details:  {'R_ID': '302', 'R_Price': 6598.9, 'R_Type': 'Ensuite', 'R_Status': 'Vaccant', 'H_ID': 141}\n",
      "Room ID: Room:303 Room Details:  {'R_ID': '303', 'R_Price': 6598.9, 'R_Type': 'Ensuite', 'R_Status': 'Vaccant', 'H_ID': 141}\n",
      "Room ID: Room:304 Room Details:  {'R_ID': '304', 'R_Price': 6598.9, 'R_Type': 'Ensuite', 'R_Status': 'Vaccant', 'H_ID': 141}\n",
      "Room ID: Room:305 Room Details:  {'R_ID': '305', 'R_Price': 6598.9, 'R_Type': 'Ensuite', 'R_Status': 'Vaccant', 'H_ID': 141}\n",
      "Room ID: Room:306 Room Details:  {'R_ID': '306', 'R_Price': 6598.9, 'R_Type': 'Ensuite', 'R_Status': 'Vaccant', 'H_ID': 141}\n",
      "Room ID: Room:307 Room Details:  {'R_ID': '307', 'R_Price': 6598.9, 'R_Type': 'Ensuite', 'R_Status': 'Vaccant', 'H_ID': 141}\n",
      "Room ID: Room:309 Room Details:  {'R_ID': '309', 'R_Price': 6598.9, 'R_Type': 'Ensuite', 'R_Status': 'Vaccant', 'H_ID': 141}\n",
      "Room ID: Room:310 Room Details:  {'R_ID': '310', 'R_Price': 6598.9, 'R_Type': 'Ensuite', 'R_Status': 'Vaccant', 'H_ID': 141}\n"
     ]
    },
    {
     "name": "stderr",
     "output_type": "stream",
     "text": [
      "<ipython-input-594-3d48e84418ac>:7: DeprecationWarning: Pipeline.hmset() is deprecated. Use Pipeline.hset() instead.\n",
      "  pipe.hmset(R_ID, R_Details)\n"
     ]
    }
   ],
   "source": [
    "## we have two values in DF.items\n",
    "## therefore we have defined two variables \n",
    "## Also, there are multiple keys in items thats why we used mset for hash keys.\n",
    "\n",
    "with r.pipeline() as pipe:\n",
    "    for R_ID, R_Details in DF.items():\n",
    "        pipe.hmset(R_ID, R_Details)\n",
    "        print(\"Room ID:\", R_ID,\"Room Details: \", R_Details)\n",
    "    pipe.execute()\n",
    "    \n",
    "\n",
    "        "
   ]
  },
  {
   "cell_type": "code",
   "execution_count": 595,
   "metadata": {},
   "outputs": [
    {
     "data": {
      "text/plain": [
       "True"
      ]
     },
     "execution_count": 595,
     "metadata": {},
     "output_type": "execute_result"
    }
   ],
   "source": [
    "r.bgsave()"
   ]
  },
  {
   "cell_type": "code",
   "execution_count": 596,
   "metadata": {},
   "outputs": [
    {
     "data": {
      "text/plain": [
       "['Room:207',\n",
       " 'Room:310',\n",
       " 'Room:210',\n",
       " 'Room:305',\n",
       " 'Room:205',\n",
       " 'Room:307',\n",
       " 'Room:309',\n",
       " 'Room:301',\n",
       " 'Room:306',\n",
       " 'Room:304',\n",
       " 'Room:209',\n",
       " 'Room:302',\n",
       " 'Room:204',\n",
       " 'Room:201',\n",
       " 'Room:303',\n",
       " 'Room:202',\n",
       " 'Room:203']"
      ]
     },
     "execution_count": 596,
     "metadata": {},
     "output_type": "execute_result"
    }
   ],
   "source": [
    "r.keys()# to check all the keys "
   ]
  },
  {
   "cell_type": "markdown",
   "metadata": {},
   "source": [
    "# Read of Redis data"
   ]
  },
  {
   "cell_type": "code",
   "execution_count": 597,
   "metadata": {},
   "outputs": [
    {
     "data": {
      "text/plain": [
       "{'R_Price': '6598.9',\n",
       " 'R_Type': 'Ensuite',\n",
       " 'R_Status': 'Vaccant',\n",
       " 'H_ID': '141',\n",
       " 'R_ID': '302'}"
      ]
     },
     "execution_count": 597,
     "metadata": {},
     "output_type": "execute_result"
    }
   ],
   "source": [
    "r.hgetall(\"Room:302\") "
   ]
  },
  {
   "cell_type": "code",
   "execution_count": 598,
   "metadata": {},
   "outputs": [
    {
     "data": {
      "text/plain": [
       "0"
      ]
     },
     "execution_count": 598,
     "metadata": {},
     "output_type": "execute_result"
    }
   ],
   "source": [
    "#Update command\n",
    "r.hset(\"Room:302\",\"R_Status\", \"Booked\")"
   ]
  },
  {
   "cell_type": "code",
   "execution_count": 599,
   "metadata": {},
   "outputs": [
    {
     "data": {
      "text/plain": [
       "{'R_Price': '6598.9',\n",
       " 'R_Type': 'Ensuite',\n",
       " 'R_Status': 'Booked',\n",
       " 'H_ID': '141',\n",
       " 'R_ID': '302'}"
      ]
     },
     "execution_count": 599,
     "metadata": {},
     "output_type": "execute_result"
    }
   ],
   "source": [
    "#Read again to check the status\n",
    "r.hgetall(\"Room:302\")"
   ]
  },
  {
   "cell_type": "code",
   "execution_count": 600,
   "metadata": {},
   "outputs": [
    {
     "data": {
      "text/plain": [
       "1"
      ]
     },
     "execution_count": 600,
     "metadata": {},
     "output_type": "execute_result"
    }
   ],
   "source": [
    "#delete command\n",
    "r.delete(\"Room:307\")"
   ]
  },
  {
   "cell_type": "code",
   "execution_count": 601,
   "metadata": {},
   "outputs": [
    {
     "data": {
      "text/plain": [
       "{}"
      ]
     },
     "execution_count": 601,
     "metadata": {},
     "output_type": "execute_result"
    }
   ],
   "source": [
    "#Read the data\n",
    "r.hgetall(\"Room:307\")"
   ]
  },
  {
   "cell_type": "markdown",
   "metadata": {},
   "source": [
    "# Polyglot Persistence"
   ]
  },
  {
   "cell_type": "code",
   "execution_count": 602,
   "metadata": {},
   "outputs": [
    {
     "data": {
      "text/plain": [
       "0"
      ]
     },
     "execution_count": 602,
     "metadata": {},
     "output_type": "execute_result"
    }
   ],
   "source": [
    "x=309\n",
    "tb = 'Room:'+str(x)\n",
    "r.hset(tb,\"R_Status\", \"Vaccant\")\n"
   ]
  },
  {
   "cell_type": "code",
   "execution_count": 603,
   "metadata": {},
   "outputs": [],
   "source": [
    "#To check whether room is booked or not?\n",
    "def BookingExists1(RID):\n",
    "    x=0\n",
    "    query=\"select R_status from Room where R_ID = ?\"\n",
    "    out = cur.execute(query,(RID,)).fetchall()\n",
    "    print(out[0][0])\n",
    "    if out[0][0]=='Booked':\n",
    "        return True\n",
    "        \n",
    "    else:\n",
    "        return False\n",
    "        "
   ]
  },
  {
   "cell_type": "code",
   "execution_count": 604,
   "metadata": {},
   "outputs": [
    {
     "name": "stdout",
     "output_type": "stream",
     "text": [
      "Vaccant\n"
     ]
    },
    {
     "data": {
      "text/plain": [
       "False"
      ]
     },
     "execution_count": 604,
     "metadata": {},
     "output_type": "execute_result"
    }
   ],
   "source": [
    "BookingExists1(302)"
   ]
  },
  {
   "cell_type": "code",
   "execution_count": 605,
   "metadata": {},
   "outputs": [],
   "source": [
    "#This will update the status of room table as well as redis hash keys\n",
    "def Room1(x):\n",
    "    query=\"update Room set R_Status= 'Booked' where R_ID= ?;\"\n",
    "    cur.execute(query,(x,))\n",
    "    conn.commit()\n",
    "    \n",
    "    #reddis\n",
    "    tb = 'Room:'+str(x)\n",
    "    r.hset(tb,\"R_Status\", \"Booked\")\n",
    "    \n",
    "    print (\"Room Booked\")\n",
    "\n",
    "    "
   ]
  },
  {
   "cell_type": "code",
   "execution_count": 606,
   "metadata": {},
   "outputs": [],
   "source": [
    "#User will enter the room which he wants to book. if is already booked, it won't make changes otherwise,\n",
    "#we will be able to update the data into room table as well as redis. \n",
    "\n",
    "def completebooking():\n",
    "    RoomID= input(\"Enter the room ID:\")\n",
    "    if BookingExists1(RoomID)== False:\n",
    "        Room1(RoomID)\n",
    "\n",
    "    else:\n",
    "        print(\"you can't book it again\")"
   ]
  },
  {
   "cell_type": "code",
   "execution_count": 607,
   "metadata": {},
   "outputs": [
    {
     "name": "stdout",
     "output_type": "stream",
     "text": [
      "Enter the room ID:204\n",
      "Vaccant\n",
      "Room Booked\n"
     ]
    }
   ],
   "source": [
    "completebooking() #try with any vaccant ids for instance 302"
   ]
  },
  {
   "cell_type": "code",
   "execution_count": 609,
   "metadata": {},
   "outputs": [
    {
     "name": "stdout",
     "output_type": "stream",
     "text": [
      "{'R_ID': '204', 'R_Price': '5938.9', 'R_Type': 'Non-Ensuite', 'R_Status': 'Booked', 'H_ID': '141'}\n"
     ]
    }
   ],
   "source": [
    "#Status in Redis is also changed for the same key\n",
    "\n",
    "print(r.hgetall(\"Room:204\"))"
   ]
  },
  {
   "cell_type": "code",
   "execution_count": 610,
   "metadata": {},
   "outputs": [
    {
     "data": {
      "text/plain": [
       "True"
      ]
     },
     "execution_count": 610,
     "metadata": {},
     "output_type": "execute_result"
    }
   ],
   "source": [
    "r.bgsave()"
   ]
  },
  {
   "cell_type": "code",
   "execution_count": 611,
   "metadata": {},
   "outputs": [],
   "source": [
    "conn.close()"
   ]
  },
  {
   "cell_type": "code",
   "execution_count": null,
   "metadata": {},
   "outputs": [],
   "source": []
  }
 ],
 "metadata": {
  "kernelspec": {
   "display_name": "Python 3",
   "language": "python",
   "name": "python3"
  },
  "language_info": {
   "codemirror_mode": {
    "name": "ipython",
    "version": 3
   },
   "file_extension": ".py",
   "mimetype": "text/x-python",
   "name": "python",
   "nbconvert_exporter": "python",
   "pygments_lexer": "ipython3",
   "version": "3.8.5"
  }
 },
 "nbformat": 4,
 "nbformat_minor": 4
}
